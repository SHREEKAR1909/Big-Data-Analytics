{
  "nbformat": 4,
  "nbformat_minor": 0,
  "metadata": {
    "colab": {
      "provenance": []
    },
    "kernelspec": {
      "name": "python3",
      "display_name": "Python 3"
    },
    "language_info": {
      "name": "python"
    }
  },
  "cells": [
    {
      "cell_type": "code",
      "execution_count": null,
      "metadata": {
        "colab": {
          "base_uri": "https://localhost:8080/"
        },
        "id": "H5b3VOJFhbkF",
        "outputId": "1490106b-3332-45a8-cf19-6379c6373076"
      },
      "outputs": [
        {
          "output_type": "stream",
          "name": "stdout",
          "text": [
            "Requirement already satisfied: pyspark in /usr/local/lib/python3.10/dist-packages (3.5.3)\n",
            "Requirement already satisfied: py4j==0.10.9.7 in /usr/local/lib/python3.10/dist-packages (from pyspark) (0.10.9.7)\n",
            "Collecting findspark\n",
            "  Downloading findspark-2.0.1-py2.py3-none-any.whl.metadata (352 bytes)\n",
            "Downloading findspark-2.0.1-py2.py3-none-any.whl (4.4 kB)\n",
            "Installing collected packages: findspark\n",
            "Successfully installed findspark-2.0.1\n"
          ]
        }
      ],
      "source": [
        "# Step 1: Install Necessary Libraries\n",
        "!pip install pyspark\n",
        "!pip install findspark"
      ]
    },
    {
      "cell_type": "code",
      "source": [
        "# Step 2: Import Libraries and Initialize SparkSession\n",
        "import findspark\n",
        "findspark.init()\n",
        "\n",
        "from pyspark.sql import SparkSession\n",
        "from pyspark.sql.functions import col, when, count, avg, round, desc\n",
        "from pyspark.ml.feature import StringIndexer, VectorAssembler\n",
        "from pyspark.ml.classification import LogisticRegression\n",
        "from pyspark.ml.evaluation import BinaryClassificationEvaluator\n",
        "from pyspark.ml.classification import RandomForestClassifier\n",
        "from pyspark.ml.tuning import ParamGridBuilder, CrossValidator\n",
        "from pyspark.ml.evaluation import MulticlassClassificationEvaluator\n",
        "\n",
        "# Initialize SparkSession\n",
        "spark = SparkSession.builder.appName(\"CustomerChurnAnalysis\").getOrCreate()"
      ],
      "metadata": {
        "id": "yQFIaHA0hdmm"
      },
      "execution_count": null,
      "outputs": []
    },
    {
      "cell_type": "code",
      "source": [
        "# Step 3: Load and Explore the Dataset\n",
        "from google.colab import files\n",
        "uploaded = files.upload()\n",
        "\n",
        "data_path = '/content/telecom_churn.csv'\n",
        "data = spark.read.csv(data_path, header=True, inferSchema=True)\n",
        "\n",
        "data.printSchema()\n",
        "data.show(5)\n",
        "\n",
        "print(\"Checking for null values:\")\n",
        "data.select([count(when(col(c).isNull(), c)).alias(c) for c in data.columns]).show()\n",
        "\n",
        "duplicates_count = data.count() - data.distinct().count()\n",
        "print(f\"Number of duplicates: {duplicates_count}\")\n",
        "\n",
        "data = data.distinct()\n",
        "\n",
        "print(\"Summary statistics:\")\n",
        "data.describe().show()"
      ],
      "metadata": {
        "colab": {
          "base_uri": "https://localhost:8080/",
          "height": 995
        },
        "id": "5sWDWmeDhijP",
        "outputId": "81e42294-7afb-4478-e3ff-16683dafae29"
      },
      "execution_count": null,
      "outputs": [
        {
          "output_type": "display_data",
          "data": {
            "text/plain": [
              "<IPython.core.display.HTML object>"
            ],
            "text/html": [
              "\n",
              "     <input type=\"file\" id=\"files-63764824-f3fb-465d-8062-400396df1977\" name=\"files[]\" multiple disabled\n",
              "        style=\"border:none\" />\n",
              "     <output id=\"result-63764824-f3fb-465d-8062-400396df1977\">\n",
              "      Upload widget is only available when the cell has been executed in the\n",
              "      current browser session. Please rerun this cell to enable.\n",
              "      </output>\n",
              "      <script>// Copyright 2017 Google LLC\n",
              "//\n",
              "// Licensed under the Apache License, Version 2.0 (the \"License\");\n",
              "// you may not use this file except in compliance with the License.\n",
              "// You may obtain a copy of the License at\n",
              "//\n",
              "//      http://www.apache.org/licenses/LICENSE-2.0\n",
              "//\n",
              "// Unless required by applicable law or agreed to in writing, software\n",
              "// distributed under the License is distributed on an \"AS IS\" BASIS,\n",
              "// WITHOUT WARRANTIES OR CONDITIONS OF ANY KIND, either express or implied.\n",
              "// See the License for the specific language governing permissions and\n",
              "// limitations under the License.\n",
              "\n",
              "/**\n",
              " * @fileoverview Helpers for google.colab Python module.\n",
              " */\n",
              "(function(scope) {\n",
              "function span(text, styleAttributes = {}) {\n",
              "  const element = document.createElement('span');\n",
              "  element.textContent = text;\n",
              "  for (const key of Object.keys(styleAttributes)) {\n",
              "    element.style[key] = styleAttributes[key];\n",
              "  }\n",
              "  return element;\n",
              "}\n",
              "\n",
              "// Max number of bytes which will be uploaded at a time.\n",
              "const MAX_PAYLOAD_SIZE = 100 * 1024;\n",
              "\n",
              "function _uploadFiles(inputId, outputId) {\n",
              "  const steps = uploadFilesStep(inputId, outputId);\n",
              "  const outputElement = document.getElementById(outputId);\n",
              "  // Cache steps on the outputElement to make it available for the next call\n",
              "  // to uploadFilesContinue from Python.\n",
              "  outputElement.steps = steps;\n",
              "\n",
              "  return _uploadFilesContinue(outputId);\n",
              "}\n",
              "\n",
              "// This is roughly an async generator (not supported in the browser yet),\n",
              "// where there are multiple asynchronous steps and the Python side is going\n",
              "// to poll for completion of each step.\n",
              "// This uses a Promise to block the python side on completion of each step,\n",
              "// then passes the result of the previous step as the input to the next step.\n",
              "function _uploadFilesContinue(outputId) {\n",
              "  const outputElement = document.getElementById(outputId);\n",
              "  const steps = outputElement.steps;\n",
              "\n",
              "  const next = steps.next(outputElement.lastPromiseValue);\n",
              "  return Promise.resolve(next.value.promise).then((value) => {\n",
              "    // Cache the last promise value to make it available to the next\n",
              "    // step of the generator.\n",
              "    outputElement.lastPromiseValue = value;\n",
              "    return next.value.response;\n",
              "  });\n",
              "}\n",
              "\n",
              "/**\n",
              " * Generator function which is called between each async step of the upload\n",
              " * process.\n",
              " * @param {string} inputId Element ID of the input file picker element.\n",
              " * @param {string} outputId Element ID of the output display.\n",
              " * @return {!Iterable<!Object>} Iterable of next steps.\n",
              " */\n",
              "function* uploadFilesStep(inputId, outputId) {\n",
              "  const inputElement = document.getElementById(inputId);\n",
              "  inputElement.disabled = false;\n",
              "\n",
              "  const outputElement = document.getElementById(outputId);\n",
              "  outputElement.innerHTML = '';\n",
              "\n",
              "  const pickedPromise = new Promise((resolve) => {\n",
              "    inputElement.addEventListener('change', (e) => {\n",
              "      resolve(e.target.files);\n",
              "    });\n",
              "  });\n",
              "\n",
              "  const cancel = document.createElement('button');\n",
              "  inputElement.parentElement.appendChild(cancel);\n",
              "  cancel.textContent = 'Cancel upload';\n",
              "  const cancelPromise = new Promise((resolve) => {\n",
              "    cancel.onclick = () => {\n",
              "      resolve(null);\n",
              "    };\n",
              "  });\n",
              "\n",
              "  // Wait for the user to pick the files.\n",
              "  const files = yield {\n",
              "    promise: Promise.race([pickedPromise, cancelPromise]),\n",
              "    response: {\n",
              "      action: 'starting',\n",
              "    }\n",
              "  };\n",
              "\n",
              "  cancel.remove();\n",
              "\n",
              "  // Disable the input element since further picks are not allowed.\n",
              "  inputElement.disabled = true;\n",
              "\n",
              "  if (!files) {\n",
              "    return {\n",
              "      response: {\n",
              "        action: 'complete',\n",
              "      }\n",
              "    };\n",
              "  }\n",
              "\n",
              "  for (const file of files) {\n",
              "    const li = document.createElement('li');\n",
              "    li.append(span(file.name, {fontWeight: 'bold'}));\n",
              "    li.append(span(\n",
              "        `(${file.type || 'n/a'}) - ${file.size} bytes, ` +\n",
              "        `last modified: ${\n",
              "            file.lastModifiedDate ? file.lastModifiedDate.toLocaleDateString() :\n",
              "                                    'n/a'} - `));\n",
              "    const percent = span('0% done');\n",
              "    li.appendChild(percent);\n",
              "\n",
              "    outputElement.appendChild(li);\n",
              "\n",
              "    const fileDataPromise = new Promise((resolve) => {\n",
              "      const reader = new FileReader();\n",
              "      reader.onload = (e) => {\n",
              "        resolve(e.target.result);\n",
              "      };\n",
              "      reader.readAsArrayBuffer(file);\n",
              "    });\n",
              "    // Wait for the data to be ready.\n",
              "    let fileData = yield {\n",
              "      promise: fileDataPromise,\n",
              "      response: {\n",
              "        action: 'continue',\n",
              "      }\n",
              "    };\n",
              "\n",
              "    // Use a chunked sending to avoid message size limits. See b/62115660.\n",
              "    let position = 0;\n",
              "    do {\n",
              "      const length = Math.min(fileData.byteLength - position, MAX_PAYLOAD_SIZE);\n",
              "      const chunk = new Uint8Array(fileData, position, length);\n",
              "      position += length;\n",
              "\n",
              "      const base64 = btoa(String.fromCharCode.apply(null, chunk));\n",
              "      yield {\n",
              "        response: {\n",
              "          action: 'append',\n",
              "          file: file.name,\n",
              "          data: base64,\n",
              "        },\n",
              "      };\n",
              "\n",
              "      let percentDone = fileData.byteLength === 0 ?\n",
              "          100 :\n",
              "          Math.round((position / fileData.byteLength) * 100);\n",
              "      percent.textContent = `${percentDone}% done`;\n",
              "\n",
              "    } while (position < fileData.byteLength);\n",
              "  }\n",
              "\n",
              "  // All done.\n",
              "  yield {\n",
              "    response: {\n",
              "      action: 'complete',\n",
              "    }\n",
              "  };\n",
              "}\n",
              "\n",
              "scope.google = scope.google || {};\n",
              "scope.google.colab = scope.google.colab || {};\n",
              "scope.google.colab._files = {\n",
              "  _uploadFiles,\n",
              "  _uploadFilesContinue,\n",
              "};\n",
              "})(self);\n",
              "</script> "
            ]
          },
          "metadata": {}
        },
        {
          "output_type": "stream",
          "name": "stdout",
          "text": [
            "Saving telecom_churn.csv to telecom_churn.csv\n",
            "root\n",
            " |-- State: string (nullable = true)\n",
            " |-- Account length: integer (nullable = true)\n",
            " |-- Area code: integer (nullable = true)\n",
            " |-- International plan: string (nullable = true)\n",
            " |-- Voice mail plan: string (nullable = true)\n",
            " |-- Number vmail messages: integer (nullable = true)\n",
            " |-- Total day minutes: double (nullable = true)\n",
            " |-- Total day calls: integer (nullable = true)\n",
            " |-- Total day charge: double (nullable = true)\n",
            " |-- Total eve minutes: double (nullable = true)\n",
            " |-- Total eve calls: integer (nullable = true)\n",
            " |-- Total eve charge: double (nullable = true)\n",
            " |-- Total night minutes: double (nullable = true)\n",
            " |-- Total night calls: integer (nullable = true)\n",
            " |-- Total night charge: double (nullable = true)\n",
            " |-- Total intl minutes: double (nullable = true)\n",
            " |-- Total intl calls: integer (nullable = true)\n",
            " |-- Total intl charge: double (nullable = true)\n",
            " |-- Customer service calls: integer (nullable = true)\n",
            " |-- Churn: boolean (nullable = true)\n",
            "\n",
            "+-----+--------------+---------+------------------+---------------+---------------------+-----------------+---------------+----------------+-----------------+---------------+----------------+-------------------+-----------------+------------------+------------------+----------------+-----------------+----------------------+-----+\n",
            "|State|Account length|Area code|International plan|Voice mail plan|Number vmail messages|Total day minutes|Total day calls|Total day charge|Total eve minutes|Total eve calls|Total eve charge|Total night minutes|Total night calls|Total night charge|Total intl minutes|Total intl calls|Total intl charge|Customer service calls|Churn|\n",
            "+-----+--------------+---------+------------------+---------------+---------------------+-----------------+---------------+----------------+-----------------+---------------+----------------+-------------------+-----------------+------------------+------------------+----------------+-----------------+----------------------+-----+\n",
            "|   KS|           128|      415|                No|            Yes|                   25|            265.1|            110|           45.07|            197.4|             99|           16.78|              244.7|               91|             11.01|              10.0|               3|              2.7|                     1|false|\n",
            "|   OH|           107|      415|                No|            Yes|                   26|            161.6|            123|           27.47|            195.5|            103|           16.62|              254.4|              103|             11.45|              13.7|               3|              3.7|                     1|false|\n",
            "|   NJ|           137|      415|                No|             No|                    0|            243.4|            114|           41.38|            121.2|            110|            10.3|              162.6|              104|              7.32|              12.2|               5|             3.29|                     0|false|\n",
            "|   OH|            84|      408|               Yes|             No|                    0|            299.4|             71|            50.9|             61.9|             88|            5.26|              196.9|               89|              8.86|               6.6|               7|             1.78|                     2|false|\n",
            "|   OK|            75|      415|               Yes|             No|                    0|            166.7|            113|           28.34|            148.3|            122|           12.61|              186.9|              121|              8.41|              10.1|               3|             2.73|                     3|false|\n",
            "+-----+--------------+---------+------------------+---------------+---------------------+-----------------+---------------+----------------+-----------------+---------------+----------------+-------------------+-----------------+------------------+------------------+----------------+-----------------+----------------------+-----+\n",
            "only showing top 5 rows\n",
            "\n",
            "Checking for null values:\n",
            "+-----+--------------+---------+------------------+---------------+---------------------+-----------------+---------------+----------------+-----------------+---------------+----------------+-------------------+-----------------+------------------+------------------+----------------+-----------------+----------------------+-----+\n",
            "|State|Account length|Area code|International plan|Voice mail plan|Number vmail messages|Total day minutes|Total day calls|Total day charge|Total eve minutes|Total eve calls|Total eve charge|Total night minutes|Total night calls|Total night charge|Total intl minutes|Total intl calls|Total intl charge|Customer service calls|Churn|\n",
            "+-----+--------------+---------+------------------+---------------+---------------------+-----------------+---------------+----------------+-----------------+---------------+----------------+-------------------+-----------------+------------------+------------------+----------------+-----------------+----------------------+-----+\n",
            "|    0|             0|        0|                 0|              0|                    0|                0|              0|               0|                0|              0|               0|                  0|                0|                 0|                 0|               0|                0|                     0|    0|\n",
            "+-----+--------------+---------+------------------+---------------+---------------------+-----------------+---------------+----------------+-----------------+---------------+----------------+-------------------+-----------------+------------------+------------------+----------------+-----------------+----------------------+-----+\n",
            "\n",
            "Number of duplicates: 0\n",
            "Summary statistics:\n",
            "+-------+-----+------------------+------------------+------------------+---------------+---------------------+------------------+------------------+------------------+------------------+------------------+-----------------+-------------------+------------------+------------------+------------------+------------------+-----------------+----------------------+\n",
            "|summary|State|    Account length|         Area code|International plan|Voice mail plan|Number vmail messages| Total day minutes|   Total day calls|  Total day charge| Total eve minutes|   Total eve calls| Total eve charge|Total night minutes| Total night calls|Total night charge|Total intl minutes|  Total intl calls|Total intl charge|Customer service calls|\n",
            "+-------+-----+------------------+------------------+------------------+---------------+---------------------+------------------+------------------+------------------+------------------+------------------+-----------------+-------------------+------------------+------------------+------------------+------------------+-----------------+----------------------+\n",
            "|  count| 3333|              3333|              3333|              3333|           3333|                 3333|              3333|              3333|              3333|              3333|              3333|             3333|               3333|              3333|              3333|              3333|              3333|             3333|                  3333|\n",
            "|   mean| NULL|101.06480648064806|437.18241824182417|              NULL|           NULL|    8.099009900990099|179.77509750975062|100.43564356435644|30.562307230723075|200.98034803480354|100.11431143114311|17.08354035403538|  200.8720372037204|100.10771077107711|  9.03932493249327|10.237293729372915|4.4794479447944795|2.764581458145802|    1.5628562856285628|\n",
            "| stddev| NULL| 39.82210592859563|42.371290485606565|              NULL|           NULL|   13.688365372038591|54.467389202371365|20.069084207300904| 9.259434553930488| 50.71384442581195|19.922625293943096|4.310667643110337| 50.573847013658295| 19.56860934605854| 2.275872837660028|2.7918395484084138| 2.461214270546096|0.753772612663046|    1.3154910448664767|\n",
            "|    min|   AK|                 1|               408|                No|             No|                    0|               0.0|                 0|               0.0|               0.0|                 0|              0.0|               23.2|                33|              1.04|               0.0|                 0|              0.0|                     0|\n",
            "|    max|   WY|               243|               510|               Yes|            Yes|                   51|             350.8|               165|             59.64|             363.7|               170|            30.91|              395.0|               175|             17.77|              20.0|                20|              5.4|                     9|\n",
            "+-------+-----+------------------+------------------+------------------+---------------+---------------------+------------------+------------------+------------------+------------------+------------------+-----------------+-------------------+------------------+------------------+------------------+------------------+-----------------+----------------------+\n",
            "\n"
          ]
        }
      ]
    },
    {
      "cell_type": "code",
      "source": [
        "# Step 4: Data Transformation\n",
        "data = data.withColumn(\n",
        "    \"Day Usage Category\",\n",
        "    when(col(\"Total day minutes\") > 250, \"High\")\n",
        "    .when(col(\"Total day minutes\") > 150, \"Medium\")\n",
        "    .otherwise(\"Low\")\n",
        ")\n",
        "\n",
        "data = data.withColumn(\"Churn\", when(col(\"Churn\") == True, \"Yes\").otherwise(\"No\"))\n",
        "\n",
        "categorical_cols = ['State', 'International plan', 'Voice mail plan', 'Churn']\n",
        "numerical_cols = ['Account length', 'Number vmail messages', 'Total day minutes',\n",
        "                  'Total day calls', 'Total eve minutes', 'Total eve calls',\n",
        "                  'Total night minutes', 'Total night calls', 'Total intl minutes',\n",
        "                  'Total intl calls', 'Customer service calls']\n",
        "\n",
        "indexers = [StringIndexer(inputCol=col, outputCol=f\"{col}_index\") for col in categorical_cols]\n",
        "\n",
        "assembler = VectorAssembler(\n",
        "    inputCols=numerical_cols + [f\"{col}_index\" for col in categorical_cols[:-1]],\n",
        "    outputCol=\"features\"\n",
        ")\n",
        "\n",
        "from pyspark.ml import Pipeline\n",
        "pipeline = Pipeline(stages=indexers + [assembler])\n",
        "data_transformed = pipeline.fit(data).transform(data)\n",
        "\n",
        "final_data = data_transformed.select(\"features\", col(\"Churn_index\").alias(\"label\"))\n"
      ],
      "metadata": {
        "id": "Dm_mgBgKhion"
      },
      "execution_count": null,
      "outputs": []
    },
    {
      "cell_type": "code",
      "source": [
        "# Step 5: Model Building and Evaluation\n",
        "train_data, test_data = final_data.randomSplit([0.8, 0.2], seed=42)\n",
        "\n",
        "rf = RandomForestClassifier(labelCol=\"label\", featuresCol=\"features\", maxBins=60) #  maxBins=60 splitting the data into ranges\n",
        "\n",
        "paramGrid = ParamGridBuilder().addGrid(rf.numTrees, [10, 50]).build()\n",
        "#to test different configurations of hyperparameters.\n",
        "\n",
        "cv = CrossValidator(\n",
        "    estimator=rf,\n",
        "    estimatorParamMaps=paramGrid,\n",
        "    evaluator=MulticlassClassificationEvaluator(labelCol=\"label\", metricName=\"accuracy\"),\n",
        "    numFolds=2\n",
        ")# to find best hyperparameters\n",
        "\n",
        "cv_model = cv.fit(train_data)\n",
        "\n",
        "predictions = cv_model.transform(test_data)\n",
        "evaluator = MulticlassClassificationEvaluator(labelCol=\"label\", metricName=\"accuracy\")\n",
        "accuracy = evaluator.evaluate(predictions)\n",
        "\n",
        "print(f\"Test Accuracy: {accuracy:.4f}\")\n",
        "\n",
        "predictions.select(\"features\", \"label\", \"prediction\").show()"
      ],
      "metadata": {
        "colab": {
          "base_uri": "https://localhost:8080/"
        },
        "id": "wmaVIxgohiq0",
        "outputId": "c3777f75-6a8e-4c39-e228-a4cdbc29c8b7"
      },
      "execution_count": null,
      "outputs": [
        {
          "output_type": "stream",
          "name": "stdout",
          "text": [
            "Test Accuracy: 0.8943\n",
            "+--------------------+-----+----------+\n",
            "|            features|label|prediction|\n",
            "+--------------------+-----+----------+\n",
            "|(14,[0,2,3,4,5,6,...|  0.0|       0.0|\n",
            "|[1.0,0.0,182.1,10...|  1.0|       0.0|\n",
            "|[1.0,26.0,146.6,6...|  0.0|       0.0|\n",
            "|[3.0,0.0,161.0,96...|  0.0|       0.0|\n",
            "|[6.0,0.0,183.6,11...|  0.0|       0.0|\n",
            "|[8.0,36.0,242.9,6...|  0.0|       0.0|\n",
            "|[10.0,0.0,222.2,1...|  0.0|       0.0|\n",
            "|[12.0,0.0,216.7,1...|  0.0|       0.0|\n",
            "|[13.0,31.0,265.3,...|  0.0|       0.0|\n",
            "|[15.0,0.0,121.1,1...|  0.0|       0.0|\n",
            "|[15.0,0.0,135.2,1...|  0.0|       0.0|\n",
            "|[16.0,0.0,110.0,9...|  0.0|       0.0|\n",
            "|[16.0,0.0,153.2,6...|  0.0|       0.0|\n",
            "|[16.0,0.0,209.5,8...|  0.0|       0.0|\n",
            "|[18.0,0.0,273.6,9...|  0.0|       0.0|\n",
            "|[20.0,0.0,190.0,1...|  0.0|       0.0|\n",
            "|[21.0,19.0,132.7,...|  0.0|       0.0|\n",
            "|[25.0,0.0,242.6,6...|  0.0|       0.0|\n",
            "|[28.0,0.0,121.7,4...|  1.0|       1.0|\n",
            "|[28.0,0.0,187.8,9...|  0.0|       0.0|\n",
            "+--------------------+-----+----------+\n",
            "only showing top 20 rows\n",
            "\n"
          ]
        }
      ]
    },
    {
      "cell_type": "code",
      "source": [
        "# Step 6: Feature Importance\n",
        "rf_model = cv_model.bestModel\n",
        "feature_importances = rf_model.featureImportances.toArray()\n",
        "\n",
        "# Map feature names to importance scores\n",
        "features = numerical_cols + [f\"{col}_index\" for col in categorical_cols[:-1]]\n",
        "feature_imp_df = spark.createDataFrame(\n",
        "    [(features[i], float(feature_importances[i])) for i in range(len(features))],\n",
        "    [\"Feature\", \"Importance\"]\n",
        ")\n",
        "\n",
        "print(\"Feature Importance:\")\n",
        "feature_imp_df.orderBy(\"Importance\", ascending=False).show()"
      ],
      "metadata": {
        "colab": {
          "base_uri": "https://localhost:8080/"
        },
        "id": "6rMqPCDQhiss",
        "outputId": "fcfdae73-838d-47fe-b14a-f5e6ff4a700c"
      },
      "execution_count": null,
      "outputs": [
        {
          "output_type": "stream",
          "name": "stdout",
          "text": [
            "Feature Importance:\n",
            "+--------------------+--------------------+\n",
            "|             Feature|          Importance|\n",
            "+--------------------+--------------------+\n",
            "|   Total day minutes|  0.3049707907346171|\n",
            "|Customer service ...| 0.19536337220658762|\n",
            "|         State_index| 0.13350152549006564|\n",
            "|International pla...| 0.10689796839241429|\n",
            "|    Total intl calls|0.054515562577584546|\n",
            "|   Total eve minutes| 0.04224031993591312|\n",
            "|  Total intl minutes| 0.04165578998650186|\n",
            "|Voice mail plan_i...| 0.03903816577330239|\n",
            "|Number vmail mess...|0.027035314188607606|\n",
            "| Total night minutes|0.017494106186667177|\n",
            "|   Total night calls|0.010886687196316126|\n",
            "|      Account length| 0.00997378309957483|\n",
            "|     Total day calls| 0.00974362291504901|\n",
            "|     Total eve calls| 0.00668299131679878|\n",
            "+--------------------+--------------------+\n",
            "\n"
          ]
        }
      ]
    },
    {
      "cell_type": "code",
      "source": [
        "# Step 7: Additional Analysis\n",
        "churn_distribution = data.groupBy(\"Churn\").count()\n",
        "churn_distribution.show()\n",
        "\n",
        "service_calls_churn = data.groupBy(\"Customer service calls\", \"Churn\").count().orderBy(desc(\"count\"))\n",
        "service_calls_churn.show()\n",
        "\n",
        "day_minutes_churn = data.groupBy(\"Day Usage Category\", \"Churn\").count().orderBy(desc(\"count\"))\n",
        "day_minutes_churn.show()"
      ],
      "metadata": {
        "colab": {
          "base_uri": "https://localhost:8080/"
        },
        "id": "QeQ8nUSthivS",
        "outputId": "627209d6-f402-49d1-cb9b-85d3cc7dfe62"
      },
      "execution_count": null,
      "outputs": [
        {
          "output_type": "stream",
          "name": "stdout",
          "text": [
            "+-----+-----+\n",
            "|Churn|count|\n",
            "+-----+-----+\n",
            "|   No| 2850|\n",
            "|  Yes|  483|\n",
            "+-----+-----+\n",
            "\n",
            "+----------------------+-----+-----+\n",
            "|Customer service calls|Churn|count|\n",
            "+----------------------+-----+-----+\n",
            "|                     1|   No| 1059|\n",
            "|                     2|   No|  672|\n",
            "|                     0|   No|  605|\n",
            "|                     3|   No|  385|\n",
            "|                     1|  Yes|  122|\n",
            "|                     0|  Yes|   92|\n",
            "|                     4|   No|   90|\n",
            "|                     2|  Yes|   87|\n",
            "|                     4|  Yes|   76|\n",
            "|                     3|  Yes|   44|\n",
            "|                     5|  Yes|   40|\n",
            "|                     5|   No|   26|\n",
            "|                     6|  Yes|   14|\n",
            "|                     6|   No|    8|\n",
            "|                     7|  Yes|    5|\n",
            "|                     7|   No|    4|\n",
            "|                     9|  Yes|    2|\n",
            "|                     8|   No|    1|\n",
            "|                     8|  Yes|    1|\n",
            "+----------------------+-----+-----+\n",
            "\n",
            "+------------------+-----+-----+\n",
            "|Day Usage Category|Churn|count|\n",
            "+------------------+-----+-----+\n",
            "|            Medium|   No| 1813|\n",
            "|               Low|   No|  863|\n",
            "|            Medium|  Yes|  213|\n",
            "|              High|   No|  174|\n",
            "|              High|  Yes|  154|\n",
            "|               Low|  Yes|  116|\n",
            "+------------------+-----+-----+\n",
            "\n"
          ]
        }
      ]
    },
    {
      "cell_type": "code",
      "source": [
        "# Step 8: Save the Model\n",
        "model_path = \"/content/customer_churn_rf_model\"\n",
        "cv_model.bestModel.write().overwrite().save(model_path)\n",
        "print(f\"Model saved to {model_path}\")"
      ],
      "metadata": {
        "colab": {
          "base_uri": "https://localhost:8080/"
        },
        "id": "o7NrI1nohixa",
        "outputId": "0e31ce41-34cb-44bd-bb70-bc3ec006a3a0"
      },
      "execution_count": null,
      "outputs": [
        {
          "output_type": "stream",
          "name": "stdout",
          "text": [
            "Model saved to /content/customer_churn_rf_model\n"
          ]
        }
      ]
    },
    {
      "cell_type": "code",
      "source": [
        "# Step 9: Visualizations\n",
        "import matplotlib.pyplot as plt\n",
        "\n",
        "# Convert feature importance to Pandas for plotting\n",
        "importances = feature_imp_df.toPandas()\n",
        "plt.figure(figsize=(10, 6))\n",
        "plt.barh(importances[\"Feature\"], importances[\"Importance\"], color=\"skyblue\")\n",
        "plt.xlabel(\"Importance\")\n",
        "plt.ylabel(\"Features\")\n",
        "plt.title(\"Feature Importance\")\n",
        "plt.gca().invert_yaxis()\n",
        "plt.show()"
      ],
      "metadata": {
        "colab": {
          "base_uri": "https://localhost:8080/",
          "height": 564
        },
        "id": "tOKDNmalhi09",
        "outputId": "4e68ccfe-746f-4859-a56f-75e4abf4f2bb"
      },
      "execution_count": null,
      "outputs": [
        {
          "output_type": "display_data",
          "data": {
            "text/plain": [
              "<Figure size 1000x600 with 1 Axes>"
            ],
            "image/png": "[encoded data removed]"
          },
          "metadata": {}
        }
      ]
    },
    {
      "cell_type": "code",
      "source": [],
      "metadata": {
        "id": "7GrSkZl5hi4W"
      },
      "execution_count": null,
      "outputs": []
    }
  ]
}